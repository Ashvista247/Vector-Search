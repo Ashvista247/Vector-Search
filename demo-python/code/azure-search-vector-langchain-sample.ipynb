{
 "cells": [
  {
   "cell_type": "code",
   "execution_count": null,
   "metadata": {},
   "outputs": [],
   "source": [
    "! pip install ../build/azure_search_documents-11.4.0b4-py3-none-any.whl \n",
    "! pip install ../build/acslangchain-0.0.3-py3-none-any.whl \n",
    "! pip install openai\n",
    "! pip install python-dotenv\n",
    "! pip install numpy\n",
    "! pip install pydantic\n",
    "! pip install langchain"
   ]
  },
  {
   "cell_type": "code",
   "execution_count": null,
   "metadata": {},
   "outputs": [],
   "source": [
    "# Import required libraries\n",
    "import os, json\n",
    "import openai\n",
    "from dotenv import load_dotenv\n",
    "from langchain.embeddings.openai import OpenAIEmbeddings\n",
    "\n",
    "from acslangchain.azuresearch import AzureSearch"
   ]
  },
  {
   "cell_type": "code",
   "execution_count": null,
   "metadata": {},
   "outputs": [],
   "source": [
    "# Load environment variables\n",
    "load_dotenv()\n",
    "\n",
    "# Azure OpenAI settings\n",
    "openai.api_type = \"azure\"\n",
    "openai.api_base = os.getenv('OPENAI_ENDPOINT')\n",
    "openai.api_version = \"2023-03-15-preview\"\n",
    "openai.api_key = os.getenv(\"OPENAI_API_KEY\")\n",
    "model: str = os.getenv('OPENAI_EMBEDDINGS_ENGINE_DOC', \"text-embedding-ada-002\")"
   ]
  },
  {
   "cell_type": "code",
   "execution_count": null,
   "metadata": {},
   "outputs": [],
   "source": [
    "# Vector store settings\n",
    "vector_store_address: str = os.getenv('AZURE_SEARCH_SERVICE_ENDPOINT')\n",
    "vector_store_password: str = os.getenv(\"AZURE_SEARCH_ADMIN_KEY\")\n",
    "index_name: str = \"embeddings\""
   ]
  },
  {
   "cell_type": "code",
   "execution_count": null,
   "metadata": {},
   "outputs": [],
   "source": [
    "# Create Embeddings and Vector store\n",
    "embeddings: OpenAIEmbeddings = OpenAIEmbeddings(model=model, chunk_size=1) \n",
    "vector_store: AzureSearch = AzureSearch(azure_cognitive_search_name= vector_store_address, azure_cognitive_search_key= vector_store_password, index_name=index_name, embedding_function=embeddings.embed_query)    "
   ]
  },
  {
   "cell_type": "code",
   "execution_count": null,
   "metadata": {},
   "outputs": [],
   "source": [
    "# Read the text-sample.json\n",
    "with open('../data/text-sample.json', 'r', encoding='utf-8') as file:\n",
    "    input_data = json.load(file)\n",
    "\n",
    "max_input: int = 40\n",
    "# Add texts to vector store\n",
    "vector_store.add_texts(\n",
    "    texts=list(map(lambda x: x['content'], input_data[0:max_input])),\n",
    "    metadatas=list(map(lambda x: { 'title': x['title'], 'key': x['id'] }, input_data[0:max_input])),\n",
    "    keys=list(map(lambda x: x['id'], input_data[0:max_input]))\n",
    ")"
   ]
  },
  {
   "cell_type": "code",
   "execution_count": null,
   "metadata": {},
   "outputs": [],
   "source": [
    "# Perform a similarity search\n",
    "vector_store.similarity_search(query=\"What's Azure Cognitive Search?\", k=3)"
   ]
  }
 ],
 "metadata": {
  "kernelspec": {
   "display_name": "Python 3.9.13 ('.venv': venv)",
   "language": "python",
   "name": "python3"
  },
  "language_info": {
   "codemirror_mode": {
    "name": "ipython",
    "version": 3
   },
   "file_extension": ".py",
   "mimetype": "text/x-python",
   "name": "python",
   "nbconvert_exporter": "python",
   "pygments_lexer": "ipython3",
   "version": "3.9.13"
  },
  "orig_nbformat": 4,
  "vscode": {
   "interpreter": {
    "hash": "645053d6307d413a1a75681b5ebb6449bb2babba4bcb0bf65a1ddc3dbefb108a"
   }
  }
 },
 "nbformat": 4,
 "nbformat_minor": 2
}
